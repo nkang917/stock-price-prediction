{
  "nbformat": 4,
  "nbformat_minor": 0,
  "metadata": {
    "kernelspec": {
      "name": "python3",
      "display_name": "Python 3"
    },
    "colab": {
      "name": "Copy of stock_prediction_lstm_proj2_medium.ipynb",
      "provenance": [],
      "collapsed_sections": [],
      "include_colab_link": true
    },
    "accelerator": "GPU"
  },
  "cells": [
    {
      "cell_type": "markdown",
      "metadata": {
        "id": "view-in-github",
        "colab_type": "text"
      },
      "source": [
        "<a href=\"https://colab.research.google.com/github/ykang917/stock-price-prediction/blob/main/code.ipynb\" target=\"_parent\"><img src=\"https://colab.research.google.com/assets/colab-badge.svg\" alt=\"Open In Colab\"/></a>"
      ]
    },
    {
      "cell_type": "markdown",
      "metadata": {
        "id": "vGbT1dgk2h0D"
      },
      "source": [
        "# Stock Prediction RNN \n",
        "\n",
        "In this project, I perform a time series prediction using a Recurrent Neural Network regressor. For this example, I will predict Apple's stock price 7 days in advance.\n",
        "\n",
        "The particular network architecture I will employ for my RNN is a  [Long Short Term Memory (LSTM)](https://en.wikipedia.org/wiki/Long_short-term_memory), which helps significantly avoid technical problems with optimization of RNNs."
      ]
    },
    {
      "cell_type": "markdown",
      "metadata": {
        "id": "vwPba0Jg2bSX"
      },
      "source": [
        "# Pytorch LSTM Stock Predictor\n",
        "\n",
        "This is a Pytorch version of the original Keras LSTM Stock Predictor provided by [Super DataScience](https://www.superdatascience.com/deep-learning/), and also available elsewhere in this repo as a notebook."
      ]
    },
    {
      "cell_type": "markdown",
      "metadata": {
        "id": "boG82OJt2n4g"
      },
      "source": [
        "## Step 1: Loading the data\n",
        "\n",
        "First let's load in our time series - a history of around 140 days of Apple's stock price. Then we need to perform a number of pre-processing steps to prepare it for use with an RNN model.  First off, it is good practice to normalize time series - by normalizing its range.  This helps us avoid serious numerical issues associated with how common activation functions (like tanh) transform very large (positive or negative) numbers, as well as helping us to avoid related issues when computing derivatives.\n",
        "\n",
        "Here we normalize the series to lie in the range [0,1] [using this scikit function](http://scikit-learn.org/stable/modules/generated/sklearn.preprocessing.MinMaxScaler.html)."
      ]
    },
    {
      "cell_type": "code",
      "metadata": {
        "id": "6k-jrLoP20Fm",
        "colab": {
          "base_uri": "https://localhost:8080/"
        },
        "outputId": "594ca45d-384b-4a45-9895-58a1559d21e5"
      },
      "source": [
        "# download the data\n",
        "!wget https://raw.githubusercontent.com/tonylaioffer/stock-prediction-lstm-using-keras/master/data/sandp500/all_stocks_5yr.csv"
      ],
      "execution_count": null,
      "outputs": [
        {
          "output_type": "stream",
          "name": "stdout",
          "text": [
            "--2021-10-15 14:14:16--  https://raw.githubusercontent.com/tonylaioffer/stock-prediction-lstm-using-keras/master/data/sandp500/all_stocks_5yr.csv\n",
            "Resolving raw.githubusercontent.com (raw.githubusercontent.com)... 185.199.109.133, 185.199.110.133, 185.199.108.133, ...\n",
            "Connecting to raw.githubusercontent.com (raw.githubusercontent.com)|185.199.109.133|:443... connected.\n",
            "HTTP request sent, awaiting response... 200 OK\n",
            "Length: 29580549 (28M) [text/plain]\n",
            "Saving to: ‘all_stocks_5yr.csv’\n",
            "\n",
            "all_stocks_5yr.csv  100%[===================>]  28.21M   159MB/s    in 0.2s    \n",
            "\n",
            "2021-10-15 14:14:18 (159 MB/s) - ‘all_stocks_5yr.csv’ saved [29580549/29580549]\n",
            "\n"
          ]
        }
      ]
    },
    {
      "cell_type": "code",
      "metadata": {
        "id": "3-8wHDYS28-m",
        "colab": {
          "base_uri": "https://localhost:8080/"
        },
        "outputId": "ac9a5cf0-a4d3-42a7-985a-a1b5ab459370"
      },
      "source": [
        "!ls ."
      ],
      "execution_count": null,
      "outputs": [
        {
          "output_type": "stream",
          "name": "stdout",
          "text": [
            "all_stocks_5yr.csv  sample_data\n"
          ]
        }
      ]
    },
    {
      "cell_type": "code",
      "metadata": {
        "colab": {
          "base_uri": "https://localhost:8080/"
        },
        "id": "1Suqz9ogXlob",
        "outputId": "d2e3dee5-e55a-478c-a1b2-127b7ece7d14"
      },
      "source": [
        " !pip install ray -U"
      ],
      "execution_count": null,
      "outputs": [
        {
          "output_type": "stream",
          "name": "stdout",
          "text": [
            "Collecting ray\n",
            "  Downloading ray-1.7.0-cp37-cp37m-manylinux2014_x86_64.whl (54.0 MB)\n",
            "\u001b[K     |████████████████████████████████| 54.0 MB 38 kB/s \n",
            "\u001b[?25hRequirement already satisfied: msgpack<2.0.0,>=1.0.0 in /usr/local/lib/python3.7/dist-packages (from ray) (1.0.2)\n",
            "Requirement already satisfied: protobuf>=3.15.3 in /usr/local/lib/python3.7/dist-packages (from ray) (3.17.3)\n",
            "Requirement already satisfied: pyyaml in /usr/local/lib/python3.7/dist-packages (from ray) (3.13)\n",
            "Requirement already satisfied: numpy>=1.16 in /usr/local/lib/python3.7/dist-packages (from ray) (1.19.5)\n",
            "Collecting redis>=3.5.0\n",
            "  Downloading redis-3.5.3-py2.py3-none-any.whl (72 kB)\n",
            "\u001b[K     |████████████████████████████████| 72 kB 561 kB/s \n",
            "\u001b[?25hRequirement already satisfied: grpcio>=1.28.1 in /usr/local/lib/python3.7/dist-packages (from ray) (1.41.0)\n",
            "Requirement already satisfied: filelock in /usr/local/lib/python3.7/dist-packages (from ray) (3.3.0)\n",
            "Requirement already satisfied: click>=7.0 in /usr/local/lib/python3.7/dist-packages (from ray) (7.1.2)\n",
            "Requirement already satisfied: attrs in /usr/local/lib/python3.7/dist-packages (from ray) (21.2.0)\n",
            "Requirement already satisfied: six>=1.5.2 in /usr/local/lib/python3.7/dist-packages (from grpcio>=1.28.1->ray) (1.15.0)\n",
            "Installing collected packages: redis, ray\n",
            "Successfully installed ray-1.7.0 redis-3.5.3\n"
          ]
        }
      ]
    },
    {
      "cell_type": "code",
      "metadata": {
        "id": "lC_2yxKR2bSe"
      },
      "source": [
        "import numpy as np\n",
        "import pandas as pd\n",
        "import matplotlib.pyplot as plt\n",
        "\n",
        "import torch.nn as nn\n",
        "import torch\n",
        "from torch.autograd import Variable\n",
        "from torch.utils.data import Dataset, DataLoader\n",
        "\n",
        "from ray import tune\n",
        "from ray.tune import CLIReporter\n",
        "from ray.tune.schedulers import ASHAScheduler"
      ],
      "execution_count": null,
      "outputs": []
    },
    {
      "cell_type": "code",
      "metadata": {
        "id": "BvFrixdV2bSw"
      },
      "source": [
        "# Importing the training set\n",
        "dataset = pd.read_csv('./all_stocks_5yr.csv')\n",
        "# dataset_cl = dataset[dataset['Name']=='AMZN'].close.values\n",
        "\n",
        "# dataset_train = pd.read_csv('Google_Stock_Price_Train.csv')\n",
        "# training_set = dataset_train.iloc[:, 1:2].values"
      ],
      "execution_count": null,
      "outputs": []
    },
    {
      "cell_type": "code",
      "metadata": {
        "colab": {
          "base_uri": "https://localhost:8080/",
          "height": 419
        },
        "id": "BjeENWv6g-az",
        "outputId": "7ae768c8-1d8a-45f1-b660-e38ad331ffa9"
      },
      "source": [
        "dataset_amzn = dataset[dataset['Name'] == 'AMZN']\n",
        "price = dataset_amzn[['close']]\n",
        "price"
      ],
      "execution_count": null,
      "outputs": [
        {
          "output_type": "execute_result",
          "data": {
            "text/html": [
              "<div>\n",
              "<style scoped>\n",
              "    .dataframe tbody tr th:only-of-type {\n",
              "        vertical-align: middle;\n",
              "    }\n",
              "\n",
              "    .dataframe tbody tr th {\n",
              "        vertical-align: top;\n",
              "    }\n",
              "\n",
              "    .dataframe thead th {\n",
              "        text-align: right;\n",
              "    }\n",
              "</style>\n",
              "<table border=\"1\" class=\"dataframe\">\n",
              "  <thead>\n",
              "    <tr style=\"text-align: right;\">\n",
              "      <th></th>\n",
              "      <th>close</th>\n",
              "    </tr>\n",
              "  </thead>\n",
              "  <tbody>\n",
              "    <tr>\n",
              "      <th>46387</th>\n",
              "      <td>261.95</td>\n",
              "    </tr>\n",
              "    <tr>\n",
              "      <th>46388</th>\n",
              "      <td>257.21</td>\n",
              "    </tr>\n",
              "    <tr>\n",
              "      <th>46389</th>\n",
              "      <td>258.70</td>\n",
              "    </tr>\n",
              "    <tr>\n",
              "      <th>46390</th>\n",
              "      <td>269.47</td>\n",
              "    </tr>\n",
              "    <tr>\n",
              "      <th>46391</th>\n",
              "      <td>269.24</td>\n",
              "    </tr>\n",
              "    <tr>\n",
              "      <th>...</th>\n",
              "      <td>...</td>\n",
              "    </tr>\n",
              "    <tr>\n",
              "      <th>47641</th>\n",
              "      <td>1390.00</td>\n",
              "    </tr>\n",
              "    <tr>\n",
              "      <th>47642</th>\n",
              "      <td>1429.95</td>\n",
              "    </tr>\n",
              "    <tr>\n",
              "      <th>47643</th>\n",
              "      <td>1390.00</td>\n",
              "    </tr>\n",
              "    <tr>\n",
              "      <th>47644</th>\n",
              "      <td>1442.84</td>\n",
              "    </tr>\n",
              "    <tr>\n",
              "      <th>47645</th>\n",
              "      <td>1416.78</td>\n",
              "    </tr>\n",
              "  </tbody>\n",
              "</table>\n",
              "<p>1259 rows × 1 columns</p>\n",
              "</div>"
            ],
            "text/plain": [
              "         close\n",
              "46387   261.95\n",
              "46388   257.21\n",
              "46389   258.70\n",
              "46390   269.47\n",
              "46391   269.24\n",
              "...        ...\n",
              "47641  1390.00\n",
              "47642  1429.95\n",
              "47643  1390.00\n",
              "47644  1442.84\n",
              "47645  1416.78\n",
              "\n",
              "[1259 rows x 1 columns]"
            ]
          },
          "metadata": {},
          "execution_count": 6
        }
      ]
    },
    {
      "cell_type": "markdown",
      "metadata": {
        "id": "UURKEshg3g0G"
      },
      "source": [
        "## Step 2:  Cutting our time series into sequences\n",
        "\n",
        "Remember, our time series is a sequence of numbers that we can represent in general mathematically as \n",
        "\n",
        "$$s_{0},s_{1},s_{2},...,s_{P}$$\n",
        "\n",
        "where $s_{p}$ is the numerical value of the time series at time period $p$ and where $P$ is the total length of the series.  In order to apply our RNN we treat the time series prediction problem as a regression problem, and so need to use a sliding window to construct a set of associated input/output pairs to regress on.  This process is animated in the gif below.\n",
        "\n",
        "<img src=\"https://github.com/tonylaioffer/stock-prediction-lstm-using-keras/raw/master/images/timeseries_windowing_training.gif\" width=600 height=288/>\n",
        "\n",
        "For example - using a window of size T = 5 (as illustrated in the gif above) we produce a set of input/output pairs like the one shown in the table below\n",
        "\n",
        "$$\\begin{array}{c|c}\n",
        "\\text{Input} & \\text{Output}\\\\\n",
        "\\hline \\color{CornflowerBlue} {\\langle s_{1},s_{2},s_{3},s_{4},s_{5}\\rangle} & \\color{Goldenrod}{ s_{6}} \\\\\n",
        "\\ \\color{CornflowerBlue} {\\langle s_{2},s_{3},s_{4},s_{5},s_{6} \\rangle } & \\color{Goldenrod} {s_{7} } \\\\\n",
        "\\color{CornflowerBlue}  {\\vdots} & \\color{Goldenrod} {\\vdots}\\\\\n",
        "\\color{CornflowerBlue} { \\langle s_{P-5},s_{P-4},s_{P-3},s_{P-2},s_{P-1} \\rangle } & \\color{Goldenrod} {s_{P}}\n",
        "\\end{array}$$\n",
        "\n",
        "Notice here that each input is a sequence (or vector) of length 4 (and in general has length equal to the window size T) while each corresponding output is a scalar value.  Notice also how given a time series of length P and window size T = 5 as shown above, we created P - 5  input/output pairs.  More generally, for a window size T we create P - T such pairs.\n",
        "\n",
        "Now let's window the input time series as described above!  "
      ]
    },
    {
      "cell_type": "markdown",
      "metadata": {
        "id": "yHsQGQ_V42G0"
      },
      "source": [
        "## Step 3: Split training and testing sets\n",
        "\n",
        "In order to perform proper testing on our dataset we will lop off the last 1/3 of it for validation (or testing).  \n",
        "\n",
        "Note how here we are **not** splitting the dataset *randomly* as one typically would do when validating a regression model.  This is because our input/output pairs *are related temporally*.   We don't want to validate our model by training on a random subset of the series and then testing on another random subset, as this simulates the scenario that we receive new points *within the timeframe of our training set*.  \n",
        "\n",
        "We want to train on one solid chunk of the series (in our case, the first full 2/3 of it), and validate on a later chunk (the last 1/3) as this simulates how we would predict *future* values of a time series."
      ]
    },
    {
      "cell_type": "code",
      "metadata": {
        "id": "0ZA4tth8myx3"
      },
      "source": [
        "# split the data into training data and testing data\n",
        "price_train = price[:int(len(price)*.8)]\n",
        "price_test = price[int(len(price)*.8):]"
      ],
      "execution_count": null,
      "outputs": []
    },
    {
      "cell_type": "code",
      "metadata": {
        "id": "XFvN25Yj3w9r"
      },
      "source": [
        "# Feature Scaling\n",
        "from sklearn.preprocessing import MinMaxScaler\n",
        "\n",
        "sc = MinMaxScaler().fit(price_train)\n",
        "\n",
        "# scale the data\n",
        "train_dataset = sc.transform(price_train)\n",
        "test_dataset = sc.transform(price_test)"
      ],
      "execution_count": null,
      "outputs": []
    },
    {
      "cell_type": "code",
      "metadata": {
        "colab": {
          "base_uri": "https://localhost:8080/"
        },
        "id": "5ktrflt-ie0O",
        "outputId": "375b0c47-8182-446d-c034-8716ba0be27c"
      },
      "source": [
        "train_dataset"
      ],
      "execution_count": null,
      "outputs": [
        {
          "output_type": "execute_result",
          "data": {
            "text/plain": [
              "array([[0.02301511],\n",
              "       [0.01506383],\n",
              "       [0.01756328],\n",
              "       ...,\n",
              "       [0.94269706],\n",
              "       [0.9384027 ],\n",
              "       [0.94655528]])"
            ]
          },
          "metadata": {},
          "execution_count": 9
        }
      ]
    },
    {
      "cell_type": "code",
      "metadata": {
        "id": "ow-4Taabmhf2"
      },
      "source": [
        "def split_data(dataset, lookback):\n",
        "    # data_raw = dataset.to_numpy() # convert to numpy array\n",
        "    data = []\n",
        "    \n",
        "    # create all possible sequences of length seq_len\n",
        "    for index in range(len(dataset) - lookback): \n",
        "        data.append(dataset[index: index + lookback])\n",
        "    \n",
        "    data = np.array(data);  \n",
        "    X = data[:,:-1,:]\n",
        "    y = data[:,-1,:]\n",
        "    \n",
        "    return [X, y]\n",
        "lookback = 20 # choose sequence length\n",
        "x_train, y_train = split_data(train_dataset, lookback)\n",
        "x_test, y_test = split_data(test_dataset, lookback)"
      ],
      "execution_count": null,
      "outputs": []
    },
    {
      "cell_type": "code",
      "metadata": {
        "colab": {
          "base_uri": "https://localhost:8080/"
        },
        "id": "x9LBkuZMQ_Ca",
        "outputId": "8ac41769-1a73-46fe-ee25-e629571a64b4"
      },
      "source": [
        "x_train.shape"
      ],
      "execution_count": null,
      "outputs": [
        {
          "output_type": "execute_result",
          "data": {
            "text/plain": [
              "(987, 19, 1)"
            ]
          },
          "metadata": {},
          "execution_count": 11
        }
      ]
    },
    {
      "cell_type": "markdown",
      "metadata": {
        "id": "bKR3RzpOpZCh"
      },
      "source": [
        "## Transform them into tensors."
      ]
    },
    {
      "cell_type": "code",
      "metadata": {
        "id": "Z1-cGZrWpg-5"
      },
      "source": [
        "device = \"cuda\" if torch.cuda.is_available() else \"cpu\"\n",
        "x_train_tensor = torch.from_numpy(x_train).float().to(device)\n",
        "x_test_tensor = torch.from_numpy(x_test).float().to(device)\n",
        "y_train_tensor = torch.from_numpy(y_train).float().to(device)\n",
        "y_test_tensor = torch.from_numpy(y_test).float().to(device)"
      ],
      "execution_count": null,
      "outputs": []
    },
    {
      "cell_type": "code",
      "metadata": {
        "colab": {
          "base_uri": "https://localhost:8080/"
        },
        "id": "J6Ib9NubqPgN",
        "outputId": "f77c4a69-dc84-45d0-d232-d2d81745e910"
      },
      "source": [
        "x_train_tensor.size()"
      ],
      "execution_count": null,
      "outputs": [
        {
          "output_type": "execute_result",
          "data": {
            "text/plain": [
              "torch.Size([987, 19, 1])"
            ]
          },
          "metadata": {},
          "execution_count": 13
        }
      ]
    },
    {
      "cell_type": "code",
      "metadata": {
        "id": "myR9jzOZiaiF"
      },
      "source": [
        "# # reshaping\n",
        "# X_train = np.reshape(X_train, (X_train.shape[0], 1, X_train.shape[1]))\n",
        "# X_test = np.reshape(X_test, (X_test.shape[0], 1, X_test.shape[1]))"
      ],
      "execution_count": null,
      "outputs": []
    },
    {
      "cell_type": "markdown",
      "metadata": {
        "id": "GMXggue15R41"
      },
      "source": [
        "## Step 4:  Build and run an RNN regression model\n",
        "\n",
        "Having created input/output pairs out of our time series and cut this into training/testing sets, we can now begin setting up our RNN.  We use Keras to quickly build a two hidden layer RNN of the following specifications\n",
        "\n",
        "- layer 1 uses an LSTM module with 5 hidden units (note here the input_shape = (window_size,1))\n",
        "- layer 2 uses a fully connected module with one unit\n",
        "- the 'mean_squared_error' loss should be used"
      ]
    },
    {
      "cell_type": "code",
      "metadata": {
        "id": "HQhAjusBGL5d"
      },
      "source": [
        "class LSTM(nn.Module):\n",
        "    def __init__(self, input_dim, hidden_dim, num_layers, output_dim, dropout=1):\n",
        "        super(LSTM, self).__init__()\n",
        "        self.hidden_dim = hidden_dim\n",
        "        self.num_layers = num_layers\n",
        "        self.lstm = nn.LSTM(\n",
        "            input_dim, \n",
        "            hidden_dim, \n",
        "            num_layers, \n",
        "            batch_first=True)\n",
        "        self.fc = nn.Linear(hidden_dim, output_dim)\n",
        "    \n",
        "    def forward(self, x):\n",
        "        h0 = torch.zeros(self.num_layers, x.size(0), self.hidden_dim).requires_grad_()\n",
        "        c0 = torch.zeros(self.num_layers, x.size(0), self.hidden_dim).requires_grad_()\n",
        "        out, (hn, cn) = self.lstm(x, (h0.to(device), c0.to(device)))\n",
        "        out = self.fc(out[:, -1, :]) \n",
        "        return out"
      ],
      "execution_count": null,
      "outputs": []
    },
    {
      "cell_type": "code",
      "metadata": {
        "id": "EHcsC219xANF"
      },
      "source": [
        "class GRU(nn.Module):\n",
        "    def __init__(self, input_dim, hidden_dim, num_layers, output_dim):\n",
        "        super(GRU, self).__init__()\n",
        "        self.hidden_dim = hidden_dim\n",
        "        self.num_layers = num_layers\n",
        "        \n",
        "        self.gru = nn.GRU(input_dim, hidden_dim, num_layers, batch_first=True)\n",
        "        self.fc = nn.Linear(hidden_dim, output_dim)\n",
        "\n",
        "    def forward(self, x):\n",
        "        h0 = torch.zeros(self.num_layers, x.size(0), self.hidden_dim).requires_grad_()\n",
        "        out, (hn) = self.gru(x, (h0.to(device)))\n",
        "        out = self.fc(out[:, -1, :]) \n",
        "        return out"
      ],
      "execution_count": null,
      "outputs": []
    },
    {
      "cell_type": "code",
      "metadata": {
        "id": "rHl61qsKGRQ0"
      },
      "source": [
        "input_dim = 1\n",
        "hidden_dim = 64\n",
        "num_layers = 3\n",
        "output_dim = 1\n",
        "num_epochs = 500"
      ],
      "execution_count": null,
      "outputs": []
    },
    {
      "cell_type": "code",
      "metadata": {
        "id": "ITnHWpC_GqJ2"
      },
      "source": [
        "model = LSTM(input_dim=input_dim, hidden_dim=hidden_dim, output_dim=output_dim, num_layers=num_layers)\n",
        "model.to(device)\n",
        "\n",
        "optimiser = torch.optim.Adam(model.parameters(), lr=0.001)\n",
        "loss_fn = nn.MSELoss(reduction='mean')"
      ],
      "execution_count": null,
      "outputs": []
    },
    {
      "cell_type": "code",
      "metadata": {
        "id": "84x0swVLxKEC"
      },
      "source": [
        "# model = GRU(input_dim=input_dim, hidden_dim=hidden_dim, output_dim=output_dim, num_layers=num_layers)\n",
        "# model.to(device)\n",
        "\n",
        "# loss_fn = torch.nn.MSELoss(reduction='mean')\n",
        "# optimiser = torch.optim.Adam(model.parameters(), lr=0.001)"
      ],
      "execution_count": null,
      "outputs": []
    },
    {
      "cell_type": "code",
      "metadata": {
        "id": "olY5dc_sQ345",
        "colab": {
          "base_uri": "https://localhost:8080/",
          "height": 69
        },
        "outputId": "ca60bcee-47c7-42e4-da35-a5e28d1977f4"
      },
      "source": [
        "\"\"\"\n",
        "class StockDataset(Dataset):\n",
        "    \n",
        "    def __init__(self, X_dataset, Y_dataset):\n",
        "        \n",
        "        self.X_dataset = torch.from_numpy(X_dataset)\n",
        "        self.Y_dataset = torch.from_numpy(Y_dataset)\n",
        "        \n",
        "    def __len__(self):\n",
        "        return np.shape(self.Y_dataset)[0]\n",
        "\n",
        "    def __getitem__(self, idx):\n",
        "        sample = {'Sequence': self.X_dataset[:,idx,:], \"Target\": self.Y_dataset[idx]}\n",
        "\n",
        "        return sample\n",
        "\"\"\""
      ],
      "execution_count": null,
      "outputs": [
        {
          "output_type": "execute_result",
          "data": {
            "application/vnd.google.colaboratory.intrinsic+json": {
              "type": "string"
            },
            "text/plain": [
              "'\\nclass StockDataset(Dataset):\\n    \\n    def __init__(self, X_dataset, Y_dataset):\\n        \\n        self.X_dataset = torch.from_numpy(X_dataset)\\n        self.Y_dataset = torch.from_numpy(Y_dataset)\\n        \\n    def __len__(self):\\n        return np.shape(self.Y_dataset)[0]\\n\\n    def __getitem__(self, idx):\\n        sample = {\\'Sequence\\': self.X_dataset[:,idx,:], \"Target\": self.Y_dataset[idx]}\\n\\n        return sample\\n'"
            ]
          },
          "metadata": {},
          "execution_count": 20
        }
      ]
    },
    {
      "cell_type": "code",
      "metadata": {
        "id": "de3JU38uRp-S"
      },
      "source": [
        "# Train_ds=StockDataset(X_train, y_train)"
      ],
      "execution_count": null,
      "outputs": []
    },
    {
      "cell_type": "code",
      "metadata": {
        "colab": {
          "base_uri": "https://localhost:8080/"
        },
        "id": "3-RdEZg6HWin",
        "outputId": "fc18346a-3651-40ad-b4e5-6fb01476f0e2"
      },
      "source": [
        "import time\n",
        "hist = np.zeros(num_epochs)\n",
        "start_time = time.time()\n",
        "lstm = []\n",
        "for t in range(num_epochs):\n",
        "    model.train()\n",
        "    y_train_pred = model(x_train_tensor)\n",
        "    loss = loss_fn(y_train_pred, y_train_tensor)\n",
        "    print(f'Epoch {t}, MSE: {loss.item()}')\n",
        "    hist[t] = loss.item()\n",
        "    optimiser.zero_grad()\n",
        "    loss.backward()\n",
        "    optimiser.step()\n",
        "\n",
        "    if t % 20 == 0:\n",
        "      model.eval()\n",
        "      y_test_pred = model(x_test_tensor)\n",
        "      test_loss = loss_fn(y_test_pred, y_test_tensor)\n",
        "      print(f'Epoch {t}, evaluation loss: {test_loss.item()}\\n')\n",
        "    \n",
        "training_time = time.time() - start_time\n",
        "print(f\"Training time: {training_time}\")"
      ],
      "execution_count": null,
      "outputs": [
        {
          "output_type": "stream",
          "name": "stdout",
          "text": [
            "Epoch 0, MSE: 0.27434900403022766\n",
            "Epoch 0, evaluation loss: 1.8585189580917358\n",
            "\n",
            "Epoch 1, MSE: 0.25118085741996765\n",
            "Epoch 2, MSE: 0.22936709225177765\n",
            "Epoch 3, MSE: 0.20838934183120728\n",
            "Epoch 4, MSE: 0.1878884881734848\n",
            "Epoch 5, MSE: 0.16765138506889343\n",
            "Epoch 6, MSE: 0.1476195901632309\n",
            "Epoch 7, MSE: 0.1279844492673874\n",
            "Epoch 8, MSE: 0.10938854515552521\n",
            "Epoch 9, MSE: 0.09336446225643158\n",
            "Epoch 10, MSE: 0.0831856057047844\n",
            "Epoch 11, MSE: 0.0844416692852974\n",
            "Epoch 12, MSE: 0.09674324840307236\n",
            "Epoch 13, MSE: 0.10196903347969055\n",
            "Epoch 14, MSE: 0.09633651375770569\n",
            "Epoch 15, MSE: 0.08714950829744339\n",
            "Epoch 16, MSE: 0.07983547449111938\n",
            "Epoch 17, MSE: 0.07588384300470352\n",
            "Epoch 18, MSE: 0.0745512992143631\n",
            "Epoch 19, MSE: 0.0745464563369751\n",
            "Epoch 20, MSE: 0.07479008287191391\n",
            "Epoch 20, evaluation loss: 0.8129554390907288\n",
            "\n",
            "Epoch 21, MSE: 0.07456395030021667\n",
            "Epoch 22, MSE: 0.07344236224889755\n",
            "Epoch 23, MSE: 0.0711967796087265\n",
            "Epoch 24, MSE: 0.06773296743631363\n",
            "Epoch 25, MSE: 0.06307648867368698\n",
            "Epoch 26, MSE: 0.05741832032799721\n",
            "Epoch 27, MSE: 0.05124014616012573\n",
            "Epoch 28, MSE: 0.04550643637776375\n",
            "Epoch 29, MSE: 0.04166296869516373\n",
            "Epoch 30, MSE: 0.04042397066950798\n",
            "Epoch 31, MSE: 0.03899676725268364\n",
            "Epoch 32, MSE: 0.033245641738176346\n",
            "Epoch 33, MSE: 0.02470829151570797\n",
            "Epoch 34, MSE: 0.018021266907453537\n",
            "Epoch 35, MSE: 0.014746872708201408\n",
            "Epoch 36, MSE: 0.01299175713211298\n",
            "Epoch 37, MSE: 0.010634168051183224\n",
            "Epoch 38, MSE: 0.007683481089770794\n",
            "Epoch 39, MSE: 0.006413773167878389\n",
            "Epoch 40, MSE: 0.007927854545414448\n",
            "Epoch 40, evaluation loss: 0.05075277388095856\n",
            "\n",
            "Epoch 41, MSE: 0.00885467417538166\n",
            "Epoch 42, MSE: 0.007929137907922268\n",
            "Epoch 43, MSE: 0.00742373988032341\n",
            "Epoch 44, MSE: 0.008069895207881927\n",
            "Epoch 45, MSE: 0.008478803560137749\n",
            "Epoch 46, MSE: 0.007754320278763771\n",
            "Epoch 47, MSE: 0.006396167445927858\n",
            "Epoch 48, MSE: 0.0052995760925114155\n",
            "Epoch 49, MSE: 0.0047805169597268105\n",
            "Epoch 50, MSE: 0.004505641292780638\n",
            "Epoch 51, MSE: 0.004121823236346245\n",
            "Epoch 52, MSE: 0.003708819393068552\n",
            "Epoch 53, MSE: 0.0035639258567243814\n",
            "Epoch 54, MSE: 0.0037823794409632683\n",
            "Epoch 55, MSE: 0.004169924650341272\n",
            "Epoch 56, MSE: 0.004460382740944624\n",
            "Epoch 57, MSE: 0.0045290603302419186\n",
            "Epoch 58, MSE: 0.004428945481777191\n",
            "Epoch 59, MSE: 0.004286191891878843\n",
            "Epoch 60, MSE: 0.004171109292656183\n",
            "Epoch 60, evaluation loss: 0.25527602434158325\n",
            "\n",
            "Epoch 61, MSE: 0.0040496219880878925\n",
            "Epoch 62, MSE: 0.003850235603749752\n",
            "Epoch 63, MSE: 0.0035706665366888046\n",
            "Epoch 64, MSE: 0.003301093587651849\n",
            "Epoch 65, MSE: 0.0031374639365822077\n",
            "Epoch 66, MSE: 0.003088161814957857\n",
            "Epoch 67, MSE: 0.003078328212723136\n",
            "Epoch 68, MSE: 0.003038323950022459\n",
            "Epoch 69, MSE: 0.00297260913066566\n",
            "Epoch 70, MSE: 0.0029357883613556623\n",
            "Epoch 71, MSE: 0.002950262976810336\n",
            "Epoch 72, MSE: 0.0029701204039156437\n",
            "Epoch 73, MSE: 0.002939798403531313\n",
            "Epoch 74, MSE: 0.002865260001271963\n",
            "Epoch 75, MSE: 0.002797649707645178\n",
            "Epoch 76, MSE: 0.0027613791171461344\n",
            "Epoch 77, MSE: 0.0027316277846693993\n",
            "Epoch 78, MSE: 0.002680989680811763\n",
            "Epoch 79, MSE: 0.002620402257889509\n",
            "Epoch 80, MSE: 0.0025816624984145164\n",
            "Epoch 80, evaluation loss: 0.15361075103282928\n",
            "\n",
            "Epoch 81, MSE: 0.002573159756138921\n",
            "Epoch 82, MSE: 0.002571437507867813\n",
            "Epoch 83, MSE: 0.0025561400689184666\n",
            "Epoch 84, MSE: 0.0025345194153487682\n",
            "Epoch 85, MSE: 0.0025231195613741875\n",
            "Epoch 86, MSE: 0.0025200992822647095\n",
            "Epoch 87, MSE: 0.002508845180273056\n",
            "Epoch 88, MSE: 0.0024823008570820093\n",
            "Epoch 89, MSE: 0.002451096661388874\n",
            "Epoch 90, MSE: 0.0024267553817480803\n",
            "Epoch 91, MSE: 0.002406673040241003\n",
            "Epoch 92, MSE: 0.0023818742483854294\n",
            "Epoch 93, MSE: 0.0023530477192252874\n",
            "Epoch 94, MSE: 0.0023294249549508095\n",
            "Epoch 95, MSE: 0.0023143496364355087\n",
            "Epoch 96, MSE: 0.002301330678164959\n",
            "Epoch 97, MSE: 0.0022849433589726686\n",
            "Epoch 98, MSE: 0.0022679415997117758\n",
            "Epoch 99, MSE: 0.0022546208929270506\n",
            "Epoch 100, MSE: 0.0022428538650274277\n",
            "Epoch 100, evaluation loss: 0.1350015550851822\n",
            "\n",
            "Epoch 101, MSE: 0.002227658173069358\n",
            "Epoch 102, MSE: 0.0022091714199632406\n",
            "Epoch 103, MSE: 0.0021916141267865896\n",
            "Epoch 104, MSE: 0.0021762268152087927\n",
            "Epoch 105, MSE: 0.002160402247682214\n",
            "Epoch 106, MSE: 0.002143152756616473\n",
            "Epoch 107, MSE: 0.0021269444841891527\n",
            "Epoch 108, MSE: 0.0021134652197360992\n",
            "Epoch 109, MSE: 0.002101094229146838\n",
            "Epoch 110, MSE: 0.0020879581570625305\n",
            "Epoch 111, MSE: 0.0020747268572449684\n",
            "Epoch 112, MSE: 0.0020626543555408716\n",
            "Epoch 113, MSE: 0.0020510072354227304\n",
            "Epoch 114, MSE: 0.0020383468363434076\n",
            "Epoch 115, MSE: 0.0020249197259545326\n",
            "Epoch 116, MSE: 0.0020119838882237673\n",
            "Epoch 117, MSE: 0.0019996589981019497\n",
            "Epoch 118, MSE: 0.0019871266558766365\n",
            "Epoch 119, MSE: 0.001974413637071848\n",
            "Epoch 120, MSE: 0.001962366048246622\n",
            "Epoch 120, evaluation loss: 0.1285889446735382\n",
            "\n",
            "Epoch 121, MSE: 0.0019511032151058316\n",
            "Epoch 122, MSE: 0.0019399020820856094\n",
            "Epoch 123, MSE: 0.001928509445860982\n",
            "Epoch 124, MSE: 0.0019173689652234316\n",
            "Epoch 125, MSE: 0.0019065729575231671\n",
            "Epoch 126, MSE: 0.0018956551793962717\n",
            "Epoch 127, MSE: 0.0018844861770048738\n",
            "Epoch 128, MSE: 0.0018734708428382874\n",
            "Epoch 129, MSE: 0.0018627768149599433\n",
            "Epoch 130, MSE: 0.0018521500751376152\n",
            "Epoch 131, MSE: 0.0018415352096781135\n",
            "Epoch 132, MSE: 0.0018311954336240888\n",
            "Epoch 133, MSE: 0.001821186044253409\n",
            "Epoch 134, MSE: 0.0018112630350515246\n",
            "Epoch 135, MSE: 0.001801349688321352\n",
            "Epoch 136, MSE: 0.0017915942007675767\n",
            "Epoch 137, MSE: 0.0017819969216361642\n",
            "Epoch 138, MSE: 0.0017724042991176248\n",
            "Epoch 139, MSE: 0.0017628245986998081\n",
            "Epoch 140, MSE: 0.0017534027574583888\n",
            "Epoch 140, evaluation loss: 0.11113883554935455\n",
            "\n",
            "Epoch 141, MSE: 0.0017441468080505729\n",
            "Epoch 142, MSE: 0.0017349687404930592\n",
            "Epoch 143, MSE: 0.001725898589938879\n",
            "Epoch 144, MSE: 0.0017170108621940017\n",
            "Epoch 145, MSE: 0.0017082607373595238\n",
            "Epoch 146, MSE: 0.0016995713813230395\n",
            "Epoch 147, MSE: 0.0016909713158383965\n",
            "Epoch 148, MSE: 0.0016824966296553612\n",
            "Epoch 149, MSE: 0.001674106577411294\n",
            "Epoch 150, MSE: 0.001665778225287795\n",
            "Epoch 151, MSE: 0.0016575587214902043\n",
            "Epoch 152, MSE: 0.0016494662268087268\n",
            "Epoch 153, MSE: 0.0016414675628766418\n",
            "Epoch 154, MSE: 0.0016335600521415472\n",
            "Epoch 155, MSE: 0.001625771401450038\n",
            "Epoch 156, MSE: 0.0016180886887013912\n",
            "Epoch 157, MSE: 0.0016104832757264376\n",
            "Epoch 158, MSE: 0.001602963195182383\n",
            "Epoch 159, MSE: 0.0015955413691699505\n",
            "Epoch 160, MSE: 0.001588204293511808\n",
            "Epoch 160, evaluation loss: 0.09553226828575134\n",
            "\n",
            "Epoch 161, MSE: 0.001580944750458002\n",
            "Epoch 162, MSE: 0.0015737798530608416\n",
            "Epoch 163, MSE: 0.0015667134430259466\n",
            "Epoch 164, MSE: 0.0015597321325913072\n",
            "Epoch 165, MSE: 0.0015528366202488542\n",
            "Epoch 166, MSE: 0.0015460338909178972\n",
            "Epoch 167, MSE: 0.0015393145149573684\n",
            "Epoch 168, MSE: 0.0015326704597100616\n",
            "Epoch 169, MSE: 0.0015261073131114244\n",
            "Epoch 170, MSE: 0.0015196276362985373\n",
            "Epoch 171, MSE: 0.001513224677182734\n",
            "Epoch 172, MSE: 0.0015069004148244858\n",
            "Epoch 173, MSE: 0.001500658574514091\n",
            "Epoch 174, MSE: 0.0014944953145459294\n",
            "Epoch 175, MSE: 0.0014884064439684153\n",
            "Epoch 176, MSE: 0.0014823945239186287\n",
            "Epoch 177, MSE: 0.0014764574589207768\n",
            "Epoch 178, MSE: 0.0014705909416079521\n",
            "Epoch 179, MSE: 0.001464796019718051\n",
            "Epoch 180, MSE: 0.0014590735081583261\n",
            "Epoch 180, evaluation loss: 0.08163674920797348\n",
            "\n",
            "Epoch 181, MSE: 0.0014534209622070193\n",
            "Epoch 182, MSE: 0.0014478375669568777\n",
            "Epoch 183, MSE: 0.0014423243701457977\n",
            "Epoch 184, MSE: 0.0014368802076205611\n",
            "Epoch 185, MSE: 0.0014315021689981222\n",
            "Epoch 186, MSE: 0.0014261904871091247\n",
            "Epoch 187, MSE: 0.0014209443470463157\n",
            "Epoch 188, MSE: 0.001415761886164546\n",
            "Epoch 189, MSE: 0.001410642289556563\n",
            "Epoch 190, MSE: 0.0014055860228836536\n",
            "Epoch 191, MSE: 0.0014005920384079218\n",
            "Epoch 192, MSE: 0.0013956589391455054\n",
            "Epoch 193, MSE: 0.0013907869579270482\n",
            "Epoch 194, MSE: 0.0013859746977686882\n",
            "Epoch 195, MSE: 0.0013812205288559198\n",
            "Epoch 196, MSE: 0.0013765244511887431\n",
            "Epoch 197, MSE: 0.0013718854170292616\n",
            "Epoch 198, MSE: 0.0013673023786395788\n",
            "Epoch 199, MSE: 0.0013627753360196948\n",
            "Epoch 200, MSE: 0.001358303357847035\n",
            "Epoch 200, evaluation loss: 0.06897412985563278\n",
            "\n",
            "Epoch 201, MSE: 0.0013538849307224154\n",
            "Epoch 202, MSE: 0.00134952028747648\n",
            "Epoch 203, MSE: 0.0013452081475406885\n",
            "Epoch 204, MSE: 0.0013409475795924664\n",
            "Epoch 205, MSE: 0.0013367378851398826\n",
            "Epoch 206, MSE: 0.0013325788313522935\n",
            "Epoch 207, MSE: 0.0013284690212458372\n",
            "Epoch 208, MSE: 0.0013244077563285828\n",
            "Epoch 209, MSE: 0.0013203948037698865\n",
            "Epoch 210, MSE: 0.001316429115831852\n",
            "Epoch 211, MSE: 0.0013125099940225482\n",
            "Epoch 212, MSE: 0.0013086365070194006\n",
            "Epoch 213, MSE: 0.0013048081891611218\n",
            "Epoch 214, MSE: 0.0013010238762944937\n",
            "Epoch 215, MSE: 0.0012972834520041943\n",
            "Epoch 216, MSE: 0.0012935858685523272\n",
            "Epoch 217, MSE: 0.001289930078200996\n",
            "Epoch 218, MSE: 0.0012863161973655224\n",
            "Epoch 219, MSE: 0.0012827429454773664\n",
            "Epoch 220, MSE: 0.0012792096240445971\n",
            "Epoch 220, evaluation loss: 0.057806022465229034\n",
            "\n",
            "Epoch 221, MSE: 0.001275715185329318\n",
            "Epoch 222, MSE: 0.0012722598621621728\n",
            "Epoch 223, MSE: 0.0012688420247286558\n",
            "Epoch 224, MSE: 0.0012654615566134453\n",
            "Epoch 225, MSE: 0.0012621175264939666\n",
            "Epoch 226, MSE: 0.0012588092358782887\n",
            "Epoch 227, MSE: 0.001255535869859159\n",
            "Epoch 228, MSE: 0.0012522971956059337\n",
            "Epoch 229, MSE: 0.0012490919325500727\n",
            "Epoch 230, MSE: 0.001245920080691576\n",
            "Epoch 231, MSE: 0.0012427802430465817\n",
            "Epoch 232, MSE: 0.0012396720703691244\n",
            "Epoch 233, MSE: 0.0012365949805825949\n",
            "Epoch 234, MSE: 0.001233548391610384\n",
            "Epoch 235, MSE: 0.001230531488545239\n",
            "Epoch 236, MSE: 0.001227543456479907\n",
            "Epoch 237, MSE: 0.0012245838297531009\n",
            "Epoch 238, MSE: 0.0012216517934575677\n",
            "Epoch 239, MSE: 0.0012187468819320202\n",
            "Epoch 240, MSE: 0.001215868629515171\n",
            "Epoch 240, evaluation loss: 0.0482010543346405\n",
            "\n",
            "Epoch 241, MSE: 0.0012130159884691238\n",
            "Epoch 242, MSE: 0.001210188609547913\n",
            "Epoch 243, MSE: 0.001207385677844286\n",
            "Epoch 244, MSE: 0.0012046069605275989\n",
            "Epoch 245, MSE: 0.0012018510606139898\n",
            "Epoch 246, MSE: 0.0011991182109341025\n",
            "Epoch 247, MSE: 0.0011964074801653624\n",
            "Epoch 248, MSE: 0.0011937179369851947\n",
            "Epoch 249, MSE: 0.001191049232147634\n",
            "Epoch 250, MSE: 0.0011884012492373586\n",
            "Epoch 251, MSE: 0.0011857724748551846\n",
            "Epoch 252, MSE: 0.001183162909001112\n",
            "Epoch 253, MSE: 0.00118057185318321\n",
            "Epoch 254, MSE: 0.001177998841740191\n",
            "Epoch 255, MSE: 0.0011754429433494806\n",
            "Epoch 256, MSE: 0.001172904041595757\n",
            "Epoch 257, MSE: 0.0011703810887411237\n",
            "Epoch 258, MSE: 0.001167873851954937\n",
            "Epoch 259, MSE: 0.0011653817491605878\n",
            "Epoch 260, MSE: 0.001162904198281467\n",
            "Epoch 260, evaluation loss: 0.04003721848130226\n",
            "\n",
            "Epoch 261, MSE: 0.0011604407336562872\n",
            "Epoch 262, MSE: 0.0011579904239624739\n",
            "Epoch 263, MSE: 0.0011555530363693833\n",
            "Epoch 264, MSE: 0.0011531281052157283\n",
            "Epoch 265, MSE: 0.0011507149320095778\n",
            "Epoch 266, MSE: 0.0011483131675049663\n",
            "Epoch 267, MSE: 0.0011459221132099628\n",
            "Epoch 268, MSE: 0.001143540837801993\n",
            "Epoch 269, MSE: 0.0011411698069423437\n",
            "Epoch 270, MSE: 0.001138807856477797\n",
            "Epoch 271, MSE: 0.0011364545207470655\n",
            "Epoch 272, MSE: 0.0011341094505041838\n",
            "Epoch 273, MSE: 0.001131771714426577\n",
            "Epoch 274, MSE: 0.0011294414289295673\n",
            "Epoch 275, MSE: 0.0011271180119365454\n",
            "Epoch 276, MSE: 0.001124800182878971\n",
            "Epoch 277, MSE: 0.0011224885238334537\n",
            "Epoch 278, MSE: 0.0011201815214008093\n",
            "Epoch 279, MSE: 0.0011178797576576471\n",
            "Epoch 280, MSE: 0.0011155818356201053\n",
            "Epoch 280, evaluation loss: 0.03317585960030556\n",
            "\n",
            "Epoch 281, MSE: 0.0011132877552881837\n",
            "Epoch 282, MSE: 0.0011109968181699514\n",
            "Epoch 283, MSE: 0.0011087085586041212\n",
            "Epoch 284, MSE: 0.0011064228601753712\n",
            "Epoch 285, MSE: 0.0011041384423151612\n",
            "Epoch 286, MSE: 0.0011018558871001005\n",
            "Epoch 287, MSE: 0.001099573913961649\n",
            "Epoch 288, MSE: 0.0010972924064844847\n",
            "Epoch 289, MSE: 0.001095010433346033\n",
            "Epoch 290, MSE: 0.0010927284602075815\n",
            "Epoch 291, MSE: 0.0010904449736699462\n",
            "Epoch 292, MSE: 0.001088160090148449\n",
            "Epoch 293, MSE: 0.001085872994735837\n",
            "Epoch 294, MSE: 0.0010835833381861448\n",
            "Epoch 295, MSE: 0.0010812908876687288\n",
            "Epoch 296, MSE: 0.001078994944691658\n",
            "Epoch 297, MSE: 0.001076695160008967\n",
            "Epoch 298, MSE: 0.0010743907187134027\n",
            "Epoch 299, MSE: 0.0010720813879743218\n",
            "Epoch 300, MSE: 0.0010697668185457587\n",
            "Epoch 300, evaluation loss: 0.027434758841991425\n",
            "\n",
            "Epoch 301, MSE: 0.0010674464283511043\n",
            "Epoch 302, MSE: 0.0010651192860677838\n",
            "Epoch 303, MSE: 0.0010627853916957974\n",
            "Epoch 304, MSE: 0.0010604443959891796\n",
            "Epoch 305, MSE: 0.0010580954840406775\n",
            "Epoch 306, MSE: 0.0010557379573583603\n",
            "Epoch 307, MSE: 0.0010533719323575497\n",
            "Epoch 308, MSE: 0.001050996477715671\n",
            "Epoch 309, MSE: 0.0010486111277714372\n",
            "Epoch 310, MSE: 0.0010462153004482388\n",
            "Epoch 311, MSE: 0.0010438088793307543\n",
            "Epoch 312, MSE: 0.0010413910495117307\n",
            "Epoch 313, MSE: 0.001038961112499237\n",
            "Epoch 314, MSE: 0.0010365190682932734\n",
            "Epoch 315, MSE: 0.0010340645676478744\n",
            "Epoch 316, MSE: 0.0010315963299944997\n",
            "Epoch 317, MSE: 0.0010291142389178276\n",
            "Epoch 318, MSE: 0.0010266180615872145\n",
            "Epoch 319, MSE: 0.001024107332341373\n",
            "Epoch 320, MSE: 0.0010215815855190158\n",
            "Epoch 320, evaluation loss: 0.022686852142214775\n",
            "\n",
            "Epoch 321, MSE: 0.0010190396569669247\n",
            "Epoch 322, MSE: 0.0010164823615923524\n",
            "Epoch 323, MSE: 0.0010139084188267589\n",
            "Epoch 324, MSE: 0.0010113173630088568\n",
            "Epoch 325, MSE: 0.0010087094269692898\n",
            "Epoch 326, MSE: 0.001006083912216127\n",
            "Epoch 327, MSE: 0.0010034407023340464\n",
            "Epoch 328, MSE: 0.0010007790988311172\n",
            "Epoch 329, MSE: 0.0009980996837839484\n",
            "Epoch 330, MSE: 0.000995401176624\n",
            "Epoch 331, MSE: 0.000992684392258525\n",
            "Epoch 332, MSE: 0.0009899488650262356\n",
            "Epoch 333, MSE: 0.0009871944785118103\n",
            "Epoch 334, MSE: 0.000984421232715249\n",
            "Epoch 335, MSE: 0.0009816288948059082\n",
            "Epoch 336, MSE: 0.0009788183961063623\n",
            "Epoch 337, MSE: 0.0009759892709553242\n",
            "Epoch 338, MSE: 0.0009731416357681155\n",
            "Epoch 339, MSE: 0.0009702767711132765\n",
            "Epoch 340, MSE: 0.0009673938620835543\n",
            "Epoch 340, evaluation loss: 0.01870618388056755\n",
            "\n",
            "Epoch 341, MSE: 0.0009644943638704717\n",
            "Epoch 342, MSE: 0.000961578800342977\n",
            "Epoch 343, MSE: 0.0009586472297087312\n",
            "Epoch 344, MSE: 0.0009557006997056305\n",
            "Epoch 345, MSE: 0.000952739967033267\n",
            "Epoch 346, MSE: 0.0009497664286755025\n",
            "Epoch 347, MSE: 0.0009467806085012853\n",
            "Epoch 348, MSE: 0.0009437840199097991\n",
            "Epoch 349, MSE: 0.0009407777688466012\n",
            "Epoch 350, MSE: 0.00093776301946491\n",
            "Epoch 351, MSE: 0.0009347415762022138\n",
            "Epoch 352, MSE: 0.0009317150106653571\n",
            "Epoch 353, MSE: 0.000928684719838202\n",
            "Epoch 354, MSE: 0.0009256526827812195\n",
            "Epoch 355, MSE: 0.0009226210531778634\n",
            "Epoch 356, MSE: 0.0009195914608426392\n",
            "Epoch 357, MSE: 0.000916566583327949\n",
            "Epoch 358, MSE: 0.0009135482250712812\n",
            "Epoch 359, MSE: 0.0009105390636250377\n",
            "Epoch 360, MSE: 0.0009075417183339596\n",
            "Epoch 360, evaluation loss: 0.013689051382243633\n",
            "\n",
            "Epoch 361, MSE: 0.000904558808542788\n",
            "Epoch 362, MSE: 0.0009015931282192469\n",
            "Epoch 363, MSE: 0.0008986471220850945\n",
            "Epoch 364, MSE: 0.0008957245736382902\n",
            "Epoch 365, MSE: 0.0008928285678848624\n",
            "Epoch 366, MSE: 0.0008899620152078569\n",
            "Epoch 367, MSE: 0.0008871285244822502\n",
            "Epoch 368, MSE: 0.0008843312971293926\n",
            "Epoch 369, MSE: 0.0008815760375000536\n",
            "Epoch 370, MSE: 0.0008788698469288647\n",
            "Epoch 371, MSE: 0.0008763070800341666\n",
            "Epoch 372, MSE: 0.000874857185408473\n",
            "Epoch 373, MSE: 0.0008853768231347203\n",
            "Epoch 374, MSE: 0.0009980791946873069\n",
            "Epoch 375, MSE: 0.001367344637401402\n",
            "Epoch 376, MSE: 0.0013947199331596494\n",
            "Epoch 377, MSE: 0.0009390535997226834\n",
            "Epoch 378, MSE: 0.0010165506973862648\n",
            "Epoch 379, MSE: 0.0011758952168747783\n",
            "Epoch 380, MSE: 0.0008816457120701671\n",
            "Epoch 380, evaluation loss: 0.0134611576795578\n",
            "\n",
            "Epoch 381, MSE: 0.0010191953042522073\n",
            "Epoch 382, MSE: 0.0009902272140607238\n",
            "Epoch 383, MSE: 0.0008740186458453536\n",
            "Epoch 384, MSE: 0.0010067649418488145\n",
            "Epoch 385, MSE: 0.0008674838463775814\n",
            "Epoch 386, MSE: 0.000949285866227001\n",
            "Epoch 387, MSE: 0.0009177574538625777\n",
            "Epoch 388, MSE: 0.0008819894283078611\n",
            "Epoch 389, MSE: 0.0009420682326890528\n",
            "Epoch 390, MSE: 0.0008558848639950156\n",
            "Epoch 391, MSE: 0.0009202071814797819\n",
            "Epoch 392, MSE: 0.0008659974555484951\n",
            "Epoch 393, MSE: 0.0008861654787324369\n",
            "Epoch 394, MSE: 0.00088503462029621\n",
            "Epoch 395, MSE: 0.0008589426870457828\n",
            "Epoch 396, MSE: 0.0008911220938898623\n",
            "Epoch 397, MSE: 0.000848884810693562\n",
            "Epoch 398, MSE: 0.0008784991223365068\n",
            "Epoch 399, MSE: 0.0008535970118828118\n",
            "Epoch 400, MSE: 0.0008598936256021261\n",
            "Epoch 400, evaluation loss: 0.010301453992724419\n",
            "\n",
            "Epoch 401, MSE: 0.0008616941631771624\n",
            "Epoch 402, MSE: 0.0008455122006125748\n",
            "Epoch 403, MSE: 0.0008624615729786456\n",
            "Epoch 404, MSE: 0.0008411320741288364\n",
            "Epoch 405, MSE: 0.0008530392660759389\n",
            "Epoch 406, MSE: 0.0008442410035058856\n",
            "Epoch 407, MSE: 0.0008411039598286152\n",
            "Epoch 408, MSE: 0.0008467367151752114\n",
            "Epoch 409, MSE: 0.0008343622903339565\n",
            "Epoch 410, MSE: 0.0008428810979239643\n",
            "Epoch 411, MSE: 0.0008345837704837322\n",
            "Epoch 412, MSE: 0.0008342621731571853\n",
            "Epoch 413, MSE: 0.0008361278451047838\n",
            "Epoch 414, MSE: 0.0008282457711175084\n",
            "Epoch 415, MSE: 0.000832879391964525\n",
            "Epoch 416, MSE: 0.0008277325541712344\n",
            "Epoch 417, MSE: 0.0008263200870715082\n",
            "Epoch 418, MSE: 0.0008279471076093614\n",
            "Epoch 419, MSE: 0.0008223847253248096\n",
            "Epoch 420, MSE: 0.0008242211188189685\n",
            "Epoch 420, evaluation loss: 0.007203171961009502\n",
            "\n",
            "Epoch 421, MSE: 0.0008222558535635471\n",
            "Epoch 422, MSE: 0.0008191761444322765\n",
            "Epoch 423, MSE: 0.0008207838982343674\n",
            "Epoch 424, MSE: 0.0008175014518201351\n",
            "Epoch 425, MSE: 0.0008163967286236584\n",
            "Epoch 426, MSE: 0.0008168105268850923\n",
            "Epoch 427, MSE: 0.0008137241238728166\n",
            "Epoch 428, MSE: 0.0008134366944432259\n",
            "Epoch 429, MSE: 0.0008129991474561393\n",
            "Epoch 430, MSE: 0.0008104929584078491\n",
            "Epoch 431, MSE: 0.0008103344589471817\n",
            "Epoch 432, MSE: 0.0008095549419522285\n",
            "Epoch 433, MSE: 0.0008075252408161759\n",
            "Epoch 434, MSE: 0.0008072408963926136\n",
            "Epoch 435, MSE: 0.0008064350695349276\n",
            "Epoch 436, MSE: 0.0008047179435379803\n",
            "Epoch 437, MSE: 0.0008042418048717082\n",
            "Epoch 438, MSE: 0.0008035464561544359\n",
            "Epoch 439, MSE: 0.0008020568056963384\n",
            "Epoch 440, MSE: 0.0008013707702048123\n",
            "Epoch 440, evaluation loss: 0.005273293703794479\n",
            "\n",
            "Epoch 441, MSE: 0.0008008021395653486\n",
            "Epoch 442, MSE: 0.0007995392079465091\n",
            "Epoch 443, MSE: 0.0007986517739482224\n",
            "Epoch 444, MSE: 0.0007981364033184946\n",
            "Epoch 445, MSE: 0.0007971355225890875\n",
            "Epoch 446, MSE: 0.0007961142109706998\n",
            "Epoch 447, MSE: 0.0007955255568958819\n",
            "Epoch 448, MSE: 0.0007947759586386383\n",
            "Epoch 449, MSE: 0.0007937638438306749\n",
            "Epoch 450, MSE: 0.0007930087740533054\n",
            "Epoch 451, MSE: 0.0007923900848254561\n",
            "Epoch 452, MSE: 0.0007915347232483327\n",
            "Epoch 453, MSE: 0.0007906578248366714\n",
            "Epoch 454, MSE: 0.0007899897755123675\n",
            "Epoch 455, MSE: 0.000789304671343416\n",
            "Epoch 456, MSE: 0.0007884680526331067\n",
            "Epoch 457, MSE: 0.0007876803865656257\n",
            "Epoch 458, MSE: 0.0007870194385759532\n",
            "Epoch 459, MSE: 0.0007863144855946302\n",
            "Epoch 460, MSE: 0.0007855188450776041\n",
            "Epoch 460, evaluation loss: 0.0047933501191437244\n",
            "\n",
            "Epoch 461, MSE: 0.0007847720989957452\n",
            "Epoch 462, MSE: 0.0007841032347641885\n",
            "Epoch 463, MSE: 0.0007834017742425203\n",
            "Epoch 464, MSE: 0.0007826430955901742\n",
            "Epoch 465, MSE: 0.000781912007369101\n",
            "Epoch 466, MSE: 0.0007812342955730855\n",
            "Epoch 467, MSE: 0.0007805440691299736\n",
            "Epoch 468, MSE: 0.0007798135047778487\n",
            "Epoch 469, MSE: 0.0007790900999680161\n",
            "Epoch 470, MSE: 0.0007784034823998809\n",
            "Epoch 471, MSE: 0.0007777211139909923\n",
            "Epoch 472, MSE: 0.0007770129595883191\n",
            "Epoch 473, MSE: 0.0007762973546050489\n",
            "Epoch 474, MSE: 0.0007756025297567248\n",
            "Epoch 475, MSE: 0.0007749215583316982\n",
            "Epoch 476, MSE: 0.0007742297020740807\n",
            "Epoch 477, MSE: 0.0007735248655080795\n",
            "Epoch 478, MSE: 0.0007728254422545433\n",
            "Epoch 479, MSE: 0.0007721401052549481\n",
            "Epoch 480, MSE: 0.000771456107031554\n",
            "Epoch 480, evaluation loss: 0.004840667825192213\n",
            "\n",
            "Epoch 481, MSE: 0.0007707629119977355\n",
            "Epoch 482, MSE: 0.0007700653513893485\n",
            "Epoch 483, MSE: 0.0007693746010772884\n",
            "Epoch 484, MSE: 0.0007686908356845379\n",
            "Epoch 485, MSE: 0.0007680052658542991\n",
            "Epoch 486, MSE: 0.0007673143991269171\n",
            "Epoch 487, MSE: 0.0007666224264539778\n",
            "Epoch 488, MSE: 0.0007659347611479461\n",
            "Epoch 489, MSE: 0.000765250762924552\n",
            "Epoch 490, MSE: 0.0007645655423402786\n",
            "Epoch 491, MSE: 0.0007638770621269941\n",
            "Epoch 492, MSE: 0.0007631882908754051\n",
            "Epoch 493, MSE: 0.0007625017315149307\n",
            "Epoch 494, MSE: 0.0007618178497068584\n",
            "Epoch 495, MSE: 0.0007611328619532287\n",
            "Epoch 496, MSE: 0.0007604464772157371\n",
            "Epoch 497, MSE: 0.0007597591611556709\n",
            "Epoch 498, MSE: 0.0007590733584947884\n",
            "Epoch 499, MSE: 0.0007583888946101069\n",
            "Training time: 9.078521490097046\n"
          ]
        }
      ]
    },
    {
      "cell_type": "code",
      "metadata": {
        "colab": {
          "base_uri": "https://localhost:8080/"
        },
        "id": "3cqWnI3fYm5S",
        "outputId": "f84c2033-cfc2-45b5-dbb2-53781ac7026a"
      },
      "source": [
        "model.fc.bias"
      ],
      "execution_count": null,
      "outputs": [
        {
          "output_type": "execute_result",
          "data": {
            "text/plain": [
              "Parameter containing:\n",
              "tensor([0.0473], device='cuda:0', requires_grad=True)"
            ]
          },
          "metadata": {},
          "execution_count": 20
        }
      ]
    },
    {
      "cell_type": "markdown",
      "metadata": {
        "id": "PY0wF6e46-JE"
      },
      "source": [
        "## Step 5: Checking model performance\n",
        "\n",
        "With our model fit we can now make predictions on both our training and testing sets."
      ]
    },
    {
      "cell_type": "markdown",
      "metadata": {
        "id": "Zjv2g6IQcZRe"
      },
      "source": [
        "history"
      ]
    },
    {
      "cell_type": "code",
      "metadata": {
        "id": "6dygBlig6_XD",
        "colab": {
          "base_uri": "https://localhost:8080/",
          "height": 282
        },
        "outputId": "c81725fe-81df-4be5-e04d-2528c18df58c"
      },
      "source": [
        "plt.plot(hist)\n",
        "# dplt.plot(history.history['val_loss'])"
      ],
      "execution_count": null,
      "outputs": [
        {
          "output_type": "execute_result",
          "data": {
            "text/plain": [
              "[<matplotlib.lines.Line2D at 0x7fcd43cd6a90>]"
            ]
          },
          "metadata": {},
          "execution_count": 56
        },
        {
          "output_type": "display_data",
          "data": {
            "image/png": "[encoded data removed]",
            "text/plain": [
              "<Figure size 432x288 with 1 Axes>"
            ]
          },
          "metadata": {
            "needs_background": "light"
          }
        }
      ]
    },
    {
      "cell_type": "code",
      "metadata": {
        "id": "hyICDKXa7Vbe"
      },
      "source": [
        "# X_train_X_test = np.concatenate((X_train, X_test),axis=0)\n",
        "# hidden_state = None\n",
        "model.eval()\n",
        "# test_inputs = torch.tensor(X_test).float().cuda()\n",
        "test_predict = model(x_test_tensor)\n",
        "test_predict_cpu = test_predict.cpu().detach().numpy()"
      ],
      "execution_count": null,
      "outputs": []
    },
    {
      "cell_type": "code",
      "metadata": {
        "id": "FwD_e6VO-cIa",
        "colab": {
          "base_uri": "https://localhost:8080/"
        },
        "outputId": "0f44c175-3331-4dc0-fe15-71d82b779dbd"
      },
      "source": [
        "test_predict_cpu.shape"
      ],
      "execution_count": null,
      "outputs": [
        {
          "output_type": "execute_result",
          "data": {
            "text/plain": [
              "(232, 1)"
            ]
          },
          "metadata": {},
          "execution_count": 34
        }
      ]
    },
    {
      "cell_type": "code",
      "metadata": {
        "colab": {
          "base_uri": "https://localhost:8080/"
        },
        "id": "L-GL0pP2oRk3",
        "outputId": "871153f7-0d86-4ab5-8bbf-f8d314a11335"
      },
      "source": [
        "from sklearn.metrics import mean_squared_error, r2_score\n",
        "mse = mean_squared_error(sc.inverse_transform(y_test), sc.inverse_transform(test_predict_cpu))\n",
        "r2 = r2_score(sc.inverse_transform(y_test), sc.inverse_transform(test_predict_cpu))\n",
        "\n",
        "r2"
      ],
      "execution_count": null,
      "outputs": [
        {
          "output_type": "execute_result",
          "data": {
            "text/plain": [
              "0.8992569792677093"
            ]
          },
          "metadata": {},
          "execution_count": 62
        }
      ]
    },
    {
      "cell_type": "code",
      "metadata": {
        "id": "c-__h1sU7kW6",
        "colab": {
          "base_uri": "https://localhost:8080/",
          "height": 282
        },
        "outputId": "606fd565-14c8-42bf-dbf2-35e6435bda1a"
      },
      "source": [
        "plt.plot(sc.inverse_transform(y_test.reshape(-1,1)))\n",
        "plt.plot(sc.inverse_transform(test_predict_cpu.reshape(-1,1)))"
      ],
      "execution_count": null,
      "outputs": [
        {
          "output_type": "execute_result",
          "data": {
            "text/plain": [
              "[<matplotlib.lines.Line2D at 0x7fcd43cd0110>]"
            ]
          },
          "metadata": {},
          "execution_count": 59
        },
        {
          "output_type": "display_data",
          "data": {
            "image/png": "[encoded data removed]",
            "text/plain": [
              "<Figure size 432x288 with 1 Axes>"
            ]
          },
          "metadata": {
            "needs_background": "light"
          }
        }
      ]
    },
    {
      "cell_type": "code",
      "metadata": {
        "colab": {
          "base_uri": "https://localhost:8080/"
        },
        "id": "L_fTVo6wZiNl",
        "outputId": "884e0f01-9840-4c35-8b1c-195bb4c6d990"
      },
      "source": [
        "train_pred.shape"
      ],
      "execution_count": null,
      "outputs": [
        {
          "output_type": "execute_result",
          "data": {
            "text/plain": [
              "torch.Size([987, 1])"
            ]
          },
          "metadata": {
            "tags": []
          },
          "execution_count": 96
        }
      ]
    },
    {
      "cell_type": "code",
      "metadata": {
        "id": "LnMGQ5Sa8vMs",
        "colab": {
          "base_uri": "https://localhost:8080/",
          "height": 279
        },
        "outputId": "ecf02a22-f2e8-486f-b669-9dc1f2a8a115"
      },
      "source": [
        "# plot original data\n",
        "plt.plot(price['close'].values.reshape(-1,1), color='k')\n",
        "\n",
        "# train_inputs = torch.tensor(X_train).float().cuda()\n",
        "train_pred = model(x_train_tensor)\n",
        "train_pred_cpu = train_pred.cpu().detach().numpy()\n",
        "\n",
        "# use hidden state from previous training data\n",
        "test_predict = model(x_test_tensor)\n",
        "test_predict_cpu = test_predict.cpu().detach().numpy()\n",
        "\n",
        "# plt.plot(scl.inverse_transform(y_test.reshape(-1,1)))\n",
        "split_pt = int(x_train_tensor.shape[0]) + 20 # window_size\n",
        "plt.plot(np.arange(20, split_pt), sc.inverse_transform(train_pred_cpu.reshape(-1,1)), color='b')\n",
        "plt.plot(np.arange(split_pt, split_pt + len(test_predict_cpu)), sc.inverse_transform(test_predict_cpu.reshape(-1,1)), color='r')\n",
        "\n",
        "# pretty up graph\n",
        "plt.xlabel('day')\n",
        "plt.ylabel('price of AAL stock')\n",
        "plt.legend(['original series','training fit','testing fit'], loc='center left', bbox_to_anchor=(1, 0.5))\n",
        "plt.show()\n"
      ],
      "execution_count": null,
      "outputs": [
        {
          "output_type": "display_data",
          "data": {
            "image/png": "[encoded data removed]",
            "text/plain": [
              "<Figure size 432x288 with 1 Axes>"
            ]
          },
          "metadata": {
            "needs_background": "light"
          }
        }
      ]
    },
    {
      "cell_type": "code",
      "metadata": {
        "id": "u4J-TrjE2bTy"
      },
      "source": [
        ""
      ],
      "execution_count": null,
      "outputs": []
    }
  ]
}